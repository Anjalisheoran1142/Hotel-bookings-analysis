{
  "nbformat": 4,
  "nbformat_minor": 0,
  "metadata": {
    "colab": {
      "private_outputs": true,
      "provenance": [],
      "collapsed_sections": [
        "gIfDvo9L0UH2"
      ],
      "include_colab_link": true
    },
    "kernelspec": {
      "name": "python3",
      "display_name": "Python 3"
    },
    "language_info": {
      "name": "python"
    }
  },
  "cells": [
    {
      "cell_type": "markdown",
      "metadata": {
        "id": "view-in-github",
        "colab_type": "text"
      },
      "source": [
        "<a href=\"https://colab.research.google.com/github/Anjalisheoran1142/Hotel-bookings-analysis/blob/main/Anjali_Hotel_booking_analysis.ipynb\" target=\"_parent\"><img src=\"https://colab.research.google.com/assets/colab-badge.svg\" alt=\"Open In Colab\"/></a>"
      ]
    },
    {
      "cell_type": "markdown",
      "source": [
        "#### **Project Name**  - EDA ON HOTEL BOOKING DATASET\n",
        "\n",
        "\n",
        "\n",
        "\n"
      ],
      "metadata": {
        "id": "vncDsAP0Gaoa"
      }
    },
    {
      "cell_type": "markdown",
      "source": [
        "##### **Project Type**   - EDA\n",
        "##### **Contribution**   - Individual\n",
        "##### **Name**           - Anjali\n"
      ],
      "metadata": {
        "id": "beRrZCGUAJYm"
      }
    },
    {
      "cell_type": "markdown",
      "source": [
        "# **Project Summary -**"
      ],
      "metadata": {
        "id": "FJNUwmbgGyua"
      }
    },
    {
      "cell_type": "markdown",
      "source": [
        "This data set contains booking information for a city hotel and a resort hotel, and includes information such as when the booking was made, length of stay, the number of adults, children, and/or babies, and the number of available parking spaces,weather the booking was successfull or canceled , was there any deposit made at the time of reservation or not, which type of customer made the booking , was the booking made by agent or not , time is also recorded by the hotels like which month did they check in , what was the week number of the check in among other things. All personally identifying information has been removed from the data\n",
        "\n",
        "The hotel industry is one of the most prominent industries in the world, and with the increase in competition, it has become increasingly important to analyze data to better understand customers and optimize revenue and improve customer satisfaction. The Hotel Booking Dataset EDA project aimed to provide insights into the trends and patterns within the hotel booking industry using a hotel booking dataset.\n",
        "\n",
        "The dataset contained information on hotel bookings from two different hotels (City & Resort Hotels), including booking information, customer demographics, and hotel details etc for three years (2015, 2016 & 2017).\n",
        "\n",
        "After loading the dataset, I started with data preparation and cleaning before I moved to EDA to analyse it. The dataset has around 119,390 records (rows) with 32 features (columns). Out of which, there were 31994 duplicate data, so deleted those rows. Remaining number of rows was 87396.Now 4 columns (company, agent, country & children) out of 32 had missing values. I imputed them in following manner:\n",
        "\n",
        "Company: There may be some cases when customer didn't booked hotel via any company. Hence I will replace null values with0.\n",
        "Agent: Similarly there can be bookings made without any agent, hence replaced them with 0.\n",
        "Children: Children column is numeric and skewed, hence choose median for imputing missing values.\n",
        "Country: country column is categorical column. We use mode of ‘country’ column, But it can lead to bias towards a specific country that occurs most frequently in the data. Hence I created a new category ‘others’ for missing values.\n",
        "There were 166 rows with 0 adults, children and babies which seems unlikely hence dropped those rows. Then created new column for total_guest = (adults + children). Ignored babies because generally they are not charged. Some values in ‘adr’ were negative, which must be an error so imputed them with median since it was a skewed data. Created new column for total_stays_night = (weekend_nights + week_nights) to analyze average length of stay.Assigned appropriate data types for some columns.\n",
        "\n",
        "After cleaning the dataset, various exploratory data analysis techniques were used to better understand the dataset. Three broad categories for EDA are: Univariate, Bivariate, Multivariate\n",
        "\n",
        "I used different types of charts and metrics to visualize the relationships, trends, understand preferences etc. to better understand the data.\n",
        "Overall, the Hotel Booking Dataset EDA project provided valuable insights into the hotel booking industry, including customer preferences, booking patterns, and trends over time. These insights can help hotels optimize revenue and improve customer satisfaction by tailoring their services to meet customer needs and expectations."
      ],
      "metadata": {
        "id": "F6v_1wHtG2nS"
      }
    },
    {
      "cell_type": "markdown",
      "source": [
        "# **GitHub Link -**"
      ],
      "metadata": {
        "id": "w6K7xa23Elo4"
      }
    },
    {
      "cell_type": "code",
      "source": [],
      "metadata": {
        "id": "TBeNBwqHYw_F"
      },
      "execution_count": null,
      "outputs": []
    },
    {
      "cell_type": "markdown",
      "source": [
        "Provide your GitHub Link here."
      ],
      "metadata": {
        "id": "h1o69JH3Eqqn"
      }
    },
    {
      "cell_type": "markdown",
      "source": [
        "# **Problem Statement**\n"
      ],
      "metadata": {
        "id": "yQaldy8SH6Dl"
      }
    },
    {
      "cell_type": "markdown",
      "source": [
        "**Write Problem Statement Here.**"
      ],
      "metadata": {
        "id": "DpeJGUA3kjGy"
      }
    },
    {
      "cell_type": "markdown",
      "source": [
        "#### **Define Your Business Objective?**"
      ],
      "metadata": {
        "id": "PH-0ReGfmX4f"
      }
    },
    {
      "cell_type": "markdown",
      "source": [
        "Answer Hotels in the hospitality industry lack an effective and comprehensive analysis system for hotel bookings. This hinders their ability to optimize revenue, make data-driven decisions, and enhance operational efficiency. The industry requires a robust booking analysis system that can provide insights into booking patterns, customer segments, cancellation rates, and customer satisfaction levels.\n",
        "\n",
        "Hence, there is a pressing need to develop an advanced hotel booking analysis system that can address these challenges and empower hotels to optimize their booking strategies, revenue management, operational efficiency, and overall customer experience. Such a system should leverage data mining, machine learning, and predictive modeling techniques to provide comprehensive insights and actionable recommendations for hotels in the dynamic and competitive hospitality industry.."
      ],
      "metadata": {
        "id": "PhDvGCAqmjP1"
      }
    },
    {
      "cell_type": "markdown",
      "source": [
        "# **General Guidelines** : -  "
      ],
      "metadata": {
        "id": "mDgbUHAGgjLW"
      }
    },
    {
      "cell_type": "markdown",
      "source": [
        "1.   Well-structured, formatted, and commented code is required.\n",
        "2.   Exception Handling, Production Grade Code & Deployment Ready Code will be a plus. Those students will be awarded some additional credits.\n",
        "     \n",
        "     The additional credits will have advantages over other students during Star Student selection.\n",
        "       \n",
        "             [ Note: - Deployment Ready Code is defined as, the whole .ipynb notebook should be executable in one go\n",
        "                       without a single error logged. ]\n",
        "\n",
        "3.   Each and every logic should have proper comments.\n",
        "4. You may add as many number of charts you want. Make Sure for each and every chart the following format should be answered.\n",
        "        \n",
        "\n",
        "```\n",
        "# Chart visualization code\n",
        "```\n",
        "            \n",
        "\n",
        "*   Why did you pick the specific chart?\n",
        "*   What is/are the insight(s) found from the chart?\n",
        "* Will the gained insights help creating a positive business impact?\n",
        "Are there any insights that lead to negative growth? Justify with specific reason.\n",
        "\n",
        "5. You have to create at least 20 logical & meaningful charts having important insights.\n",
        "\n",
        "\n",
        "[ Hints : - Do the Vizualization in  a structured way while following \"UBM\" Rule.\n",
        "\n",
        "U - Univariate Analysis,\n",
        "\n",
        "B - Bivariate Analysis (Numerical - Categorical, Numerical - Numerical, Categorical - Categorical)\n",
        "\n",
        "M - Multivariate Analysis\n",
        " ]\n",
        "\n",
        "\n",
        "\n"
      ],
      "metadata": {
        "id": "ZrxVaUj-hHfC"
      }
    },
    {
      "cell_type": "markdown",
      "source": [
        "# ***Let's Begin !***"
      ],
      "metadata": {
        "id": "O_i_v8NEhb9l"
      }
    },
    {
      "cell_type": "markdown",
      "source": [
        "## ***1. Know Your Data***"
      ],
      "metadata": {
        "id": "HhfV-JJviCcP"
      }
    },
    {
      "cell_type": "markdown",
      "source": [
        "### Import Libraries"
      ],
      "metadata": {
        "id": "Y3lxredqlCYt"
      }
    },
    {
      "cell_type": "code",
      "source": [
        "# Import Libraries\n",
        "import pandas as pd\n",
        "import numpy as np\n",
        "import matplotlib.pyplot as plt\n",
        "import seaborn as sns"
      ],
      "metadata": {
        "id": "M8Vqi-pPk-HR"
      },
      "execution_count": null,
      "outputs": []
    },
    {
      "cell_type": "markdown",
      "source": [
        "### Dataset Loading"
      ],
      "metadata": {
        "id": "3RnN4peoiCZX"
      }
    },
    {
      "cell_type": "code",
      "source": [
        "# Load Dataset\n",
        "from google.colab import drive\n",
        "drive.mount('/content/drive')\n"
      ],
      "metadata": {
        "id": "4CkvbW_SlZ_R"
      },
      "execution_count": null,
      "outputs": []
    },
    {
      "cell_type": "code",
      "source": [
        "import pandas as pd\n",
        "df = pd.read_csv('/content/drive/MyDrive/Hotel_Bookings.csv')"
      ],
      "metadata": {
        "id": "-qa5Hxf8Qj0e"
      },
      "execution_count": null,
      "outputs": []
    },
    {
      "cell_type": "markdown",
      "source": [
        "### Dataset First View"
      ],
      "metadata": {
        "id": "x71ZqKXriCWQ"
      }
    },
    {
      "cell_type": "code",
      "source": [
        "# Dataset First Look\n",
        "df.head()"
      ],
      "metadata": {
        "id": "LWNFOSvLl09H"
      },
      "execution_count": null,
      "outputs": []
    },
    {
      "cell_type": "code",
      "source": [],
      "metadata": {
        "id": "Rw7uu9eMdN9V"
      },
      "execution_count": null,
      "outputs": []
    },
    {
      "cell_type": "markdown",
      "source": [
        "\n",
        "### Dataset Rows & Columns count"
      ],
      "metadata": {
        "id": "7hBIi_osiCS2"
      }
    },
    {
      "cell_type": "code",
      "source": [
        "# Dataset Rows & Columns count\n",
        "df.shape"
      ],
      "metadata": {
        "id": "Kllu7SJgmLij"
      },
      "execution_count": null,
      "outputs": []
    },
    {
      "cell_type": "markdown",
      "source": [
        "\n",
        "### Dataset Information"
      ],
      "metadata": {
        "id": "JlHwYmJAmNHm"
      }
    },
    {
      "cell_type": "code",
      "source": [
        "\n",
        "# Dataset Info\n",
        "df.info()"
      ],
      "metadata": {
        "id": "e9hRXRi6meOf"
      },
      "execution_count": null,
      "outputs": []
    },
    {
      "cell_type": "markdown",
      "source": [
        "#### Duplicate Values"
      ],
      "metadata": {
        "id": "35m5QtbWiB9F"
      }
    },
    {
      "cell_type": "code",
      "source": [
        "# Dataset Duplicate Value Count\n",
        "df.duplicated().sum()"
      ],
      "metadata": {
        "id": "1sLdpKYkmox0"
      },
      "execution_count": null,
      "outputs": []
    },
    {
      "cell_type": "markdown",
      "source": [
        "#### Missing Values/Null Values"
      ],
      "metadata": {
        "id": "PoPl-ycgm1ru"
      }
    },
    {
      "cell_type": "code",
      "source": [
        "# Missing Values/Null Values Count\n",
        "df.isnull().sum()"
      ],
      "metadata": {
        "id": "GgHWkxvamxVg"
      },
      "execution_count": null,
      "outputs": []
    },
    {
      "cell_type": "code",
      "source": [
        "# Visualizing the missing values\n",
        "plt.figure(figsize=(10,6))\n",
        "sns.heatmap(df.isnull(),cmap='viridis')\n",
        "plt.title('Missing Value heatmap')\n",
        "plt.show()"
      ],
      "metadata": {
        "id": "3q5wnI3om9sJ"
      },
      "execution_count": null,
      "outputs": []
    },
    {
      "cell_type": "markdown",
      "source": [
        "### What did you know about your dataset?"
      ],
      "metadata": {
        "id": "H0kj-8xxnORC"
      }
    },
    {
      "cell_type": "markdown",
      "source": [
        "\n",
        "\n",
        "\n",
        "\n",
        "\n",
        "\n",
        "\n",
        "This Dataset is from hospitality industry which provides insights of hotel booking system and helps hotels make informed decisions to optimize revenue, improve customer experience, and enhance operational efficiency\n",
        "\n",
        "It has 119390 rows and 32 columns\n",
        "\n",
        "There is 129425 null values and 31994 Duplicate values in it and there are also some missing values in children, country, agent and company columns, we remove this later. In this dataset we find data types of every columns i.e (Int, float ,string) and observe that some columns data types is not accurate and remove later."
      ],
      "metadata": {
        "id": "gfoNAAC-nUe_"
      }
    },
    {
      "cell_type": "markdown",
      "source": [
        "## ***2. Understanding Your Variables***"
      ],
      "metadata": {
        "id": "nA9Y7ga8ng1Z"
      }
    },
    {
      "cell_type": "code",
      "source": [
        "# Dataset Columns\n",
        "df.columns"
      ],
      "metadata": {
        "id": "j7xfkqrt5Ag5"
      },
      "execution_count": null,
      "outputs": []
    },
    {
      "cell_type": "code",
      "source": [
        "# Dataset Describe\n",
        "df.describe().T"
      ],
      "metadata": {
        "id": "DnOaZdaE5Q5t"
      },
      "execution_count": null,
      "outputs": []
    },
    {
      "cell_type": "code",
      "source": [
        "\n",
        "\n",
        "\n",
        "# Dataset Describe\n",
        "df.describe(include=['O']).T"
      ],
      "metadata": {
        "id": "_Nk--AzwzuCD"
      },
      "execution_count": null,
      "outputs": []
    },
    {
      "cell_type": "markdown",
      "source": [
        "### Variables Description"
      ],
      "metadata": {
        "id": "PBTbrJXOngz2"
      }
    },
    {
      "cell_type": "markdown",
      "source": [
        "*    **hotel** : Name of the hotel (Resort Hotel or City Hotel)\n",
        "\n",
        "*   **is_canceled** : If the booking was canceled (1) or not (0)\n",
        "\n",
        "*   **lead_time**: Number of days before the actual arrival of the guests\n",
        "\n",
        "*   **arrival_date_year** : Year of arrival date\n",
        "\n",
        "*   **arrival_date_month** : Month of month arrival date\n",
        "\n",
        "*   **arrival_date_week_number** : Week number of year for arrival date\n",
        "\n",
        "*   **arrival_date_day_of_month** : Day of arrival date\n",
        "\n",
        "*   **stays_in_weekend_nights** : Number of weekend nights (Saturday or Sunday) spent at the hotel by the guests.\n",
        "\n",
        "*   **stays_in_week_nights** : Number of weeknights (Monday to Friday) spent at the hotel by the guests.\n",
        "\n",
        "*   **adults** : Number of adults among guests\n",
        "\n",
        "*   **arrival_date_year** : Year of arrival date\n",
        "\n",
        "*   **arrival_date_month** : Month of month arrival date\n",
        "\n",
        "\n",
        "*   **arrival_date_week_number** : Week number of year for arrival date\n",
        "\n",
        "\n",
        "*  **arrival_date_day_of_month** : Day of arrival date\n",
        "\n",
        "\n",
        "*  **stays_in_weekend_nights** : Number of weekend nights (Saturday or Sunday) spent at the hotel by the guests.\n",
        "\n",
        "\n",
        "*   **stays_in_week_nights** : Number of weeknights (Monday to Friday) spent at the hotel by the guests.\n",
        "\n",
        "\n",
        "*   **adults** : Number of adults among guests\n",
        "\n",
        "\n",
        "*   **children** : Number of children among guests\n",
        "\n",
        "\n",
        "*   **babies** : Number of babies among guests\n",
        "\n",
        "\n",
        "*   **meal** : Type of meal booked\n",
        "\n",
        "\n",
        "*   **country** : Country of guests\n",
        "\n",
        "\n",
        "*   **market_segment** : Designation of market segment\n",
        "\n",
        "*   **distribution_channel** : Name of booking distribution channel\n",
        "\n",
        "\n",
        "*   **is_repeated_guest** : If the booking was from a repeated guest (1) or not (0)\n",
        "\n",
        "\n",
        "*   **previous_cancellations** : was there a cancelllation before\n",
        "\n",
        "*   **previous_bookings_not_canceled** : Number of previous bookings not cancelled by the customer prior to the current booking\n",
        "\n",
        "*   **reserved_room_type** : Code of room type reserved\n",
        "\n",
        "*   **assigned_room_type** : Code of room type assigned\n",
        "\n",
        "*   **booking_changes** : Number of changes/amendments made to the booking\n",
        "\n",
        "*   **deposit_type** : Type of the deposit made by the guest\n",
        "\n",
        "*   **agent** : ID of travel agent who made the booking\n",
        "\n",
        "*   **company** : ID of the company that made the booking\n",
        "\n",
        "*   **days_in_waiting_list** : Number of days the booking was in the waiting list\n",
        "*   **customer_type** : Type of customer, assuming one of four categories\n",
        "\n",
        "\n",
        "*   **adr** : Average Daily Rate, as defined by dividing the sum of all lodging transactions by the total number of staying nights\n",
        "\n",
        "\n",
        "*   **required_car_parking_spaces** : Number of car parking spaces required by the customer\n",
        "\n",
        "\n",
        "*  **total_of_special_requests** : Number of special requests made by the customer\n",
        "\n",
        "\n",
        "*   **reservation_status** : Reservation status (Canceled, Check-Out or No-Show)\n",
        "\n",
        "\n",
        "*   **reservation_status_date** : Date at which the last reservation status was updated"
      ],
      "metadata": {
        "id": "aJV4KIxSnxay"
      }
    },
    {
      "cell_type": "markdown",
      "source": [
        "### Check Unique Values for each variable."
      ],
      "metadata": {
        "id": "u3PMJOP6ngxN"
      }
    },
    {
      "cell_type": "code",
      "source": [
        "# Check Unique Values for each variable.\n",
        "df.nunique()"
      ],
      "metadata": {
        "id": "zms12Yq5n-jE"
      },
      "execution_count": null,
      "outputs": []
    },
    {
      "cell_type": "markdown",
      "source": [
        "\n",
        "### Data Wrangling Code\n",
        "\n",
        "\n",
        "\n"
      ],
      "metadata": {
        "id": "bKJF3rekwFvQ"
      }
    },
    {
      "cell_type": "code",
      "source": [
        "# Write your code to make your dataset analysis ready."
      ],
      "metadata": {
        "id": "wk-9a2fpoLcV"
      },
      "execution_count": null,
      "outputs": []
    },
    {
      "cell_type": "code",
      "source": [
        "# checking null values percentage of each column\n",
        "round((df.isnull().sum()/df.shape[0])*100)\n"
      ],
      "metadata": {
        "id": "nBl-ikMadu4c"
      },
      "execution_count": null,
      "outputs": []
    },
    {
      "cell_type": "code",
      "source": [
        "# we will be removing company column here because it has 94% of null values\n",
        "\n",
        "df.drop('company', inplace= True , axis=1)"
      ],
      "metadata": {
        "id": "mQU0LIm6eOjF"
      },
      "execution_count": null,
      "outputs": []
    },
    {
      "cell_type": "code",
      "source": [
        "# combining children and babies column in one column as total_children and droping old columns\n",
        "df['Total_children']=df['children']+df['babies']\n",
        "df.drop(['children','babies'],inplace=True,axis=1)"
      ],
      "metadata": {
        "id": "Dx9KiV1UiTRJ"
      },
      "execution_count": null,
      "outputs": []
    },
    {
      "cell_type": "code",
      "source": [
        "# Combining children and adults into one column\n",
        "\n",
        "df[\"total_guest\"] = df[\"Total_children\"] + df[\"adults\"]"
      ],
      "metadata": {
        "id": "u2UQ7OMmiTc8"
      },
      "execution_count": null,
      "outputs": []
    },
    {
      "cell_type": "code",
      "source": [
        "# making a date column by combining 3 columns arrival_date_year , arrival_date_month and arrival_date_day_of_month\n",
        "\n",
        "df[\"date\"]=df[\"arrival_date_year\"].astype(str)+\"/\"+df[\"arrival_date_month\"]+\"/\"+df[\"arrival_date_day_of_month\"].astype(str)"
      ],
      "metadata": {
        "id": "VqOq4zMziTf6"
      },
      "execution_count": null,
      "outputs": []
    },
    {
      "cell_type": "code",
      "source": [
        "# converting newly made date column to date time column and then verfying the correction\n",
        "df['date']=pd.to_datetime(df['date'])\n",
        "df.dtypes"
      ],
      "metadata": {
        "id": "BRG4CJ5ciTjX"
      },
      "execution_count": null,
      "outputs": []
    },
    {
      "cell_type": "code",
      "source": [
        "\n",
        "# Adding 'stays_in_weekend_nights' & 'stays_in_week_nights' column to get total_stay duration\n",
        "df['total_stay'] = df['stays_in_weekend_nights'] + df['stays_in_week_nights']\n"
      ],
      "metadata": {
        "id": "g2uGodzCf8_u"
      },
      "execution_count": null,
      "outputs": []
    },
    {
      "cell_type": "code",
      "source": [
        "# We have created a col for revenue using total stay * adr\n",
        "df['revenue'] = df['total_stay'] * df['adr']\n"
      ],
      "metadata": {
        "id": "t7qzd2ZAgK5h"
      },
      "execution_count": null,
      "outputs": []
    },
    {
      "cell_type": "code",
      "source": [
        "# Dropping the old columns as everything can be accessed using this new column\n",
        "\n",
        "df.drop([\"arrival_date_day_of_month\",\"arrival_date_year\",\"arrival_date_month\"], inplace= True , axis=1)"
      ],
      "metadata": {
        "id": "mBEDhSd6oa4n"
      },
      "execution_count": null,
      "outputs": []
    },
    {
      "cell_type": "code",
      "source": [
        "df.head()            # verifying new columns by observing them"
      ],
      "metadata": {
        "id": "0qgDTzHBobCX"
      },
      "execution_count": null,
      "outputs": []
    },
    {
      "cell_type": "code",
      "source": [
        "df.columns           # displaying data with added new columns"
      ],
      "metadata": {
        "id": "_oc4-lzxobE7"
      },
      "execution_count": null,
      "outputs": []
    },
    {
      "cell_type": "markdown",
      "source": [
        "\n",
        "## **Canceled bookings and Repeated guests**"
      ],
      "metadata": {
        "id": "WpmYT34dHuAz"
      }
    },
    {
      "cell_type": "markdown",
      "source": [
        "\n",
        "\n"
      ],
      "metadata": {
        "id": "YQhuh-FnwV3M"
      }
    },
    {
      "cell_type": "code",
      "source": [
        "repeat=df.groupby (\"hotel\")[\"is_repeated_guest\"].value_counts(normalize=True).unstack()\n",
        "repeat\n"
      ],
      "metadata": {
        "id": "kdnYJke3Jyqg"
      },
      "execution_count": null,
      "outputs": []
    },
    {
      "cell_type": "code",
      "source": [
        "cancel=df.groupby ([\"hotel\"] )[\"is_canceled\"].value_counts(normalize=True).unstack()\n",
        "\n",
        "print(cancel)"
      ],
      "metadata": {
        "id": "gqYees8Lwgmf"
      },
      "execution_count": null,
      "outputs": []
    },
    {
      "cell_type": "code",
      "source": [
        "print(repeat)\n",
        "print(\"-\"*100)\n",
        "print(\"*\"*50)\n",
        "print(\"-\"*100)\n",
        "print(cancel)"
      ],
      "metadata": {
        "id": "wwiP-b59N8z5"
      },
      "execution_count": null,
      "outputs": []
    },
    {
      "cell_type": "markdown",
      "source": [
        "*   Repeated guests in City Hotel is around 2.5 %\n",
        "*   Canceled bookings in City hotel is around 41 %\n",
        "\n",
        "\n",
        "\n",
        "---\n",
        "\n",
        "\n",
        "*   Repeated guests in Resort Hotel is around 4.4 %\n",
        "*   Canceled bookings in Resort hotel is around 27 %\n",
        "\n",
        "\n",
        "\n",
        "\n",
        "\n",
        "\n",
        "\n",
        "\n",
        "\n",
        "\n",
        "\n",
        "\n",
        "\n",
        "\n",
        "\n",
        "\n",
        "\n"
      ],
      "metadata": {
        "id": "fh3h7f1oPcLd"
      }
    },
    {
      "cell_type": "markdown",
      "source": [
        "## **Cancellations Based on Distribution**"
      ],
      "metadata": {
        "id": "_tgcYVesfL9U"
      }
    },
    {
      "cell_type": "markdown",
      "source": [],
      "metadata": {
        "id": "CQgqcbKNfKss"
      }
    },
    {
      "cell_type": "code",
      "source": [
        "total_bookings=df.groupby(\"distribution_channel\")[\"booking_changes\"].count()\n",
        "total_bookings"
      ],
      "metadata": {
        "id": "cZ0lcb7OO6s7"
      },
      "execution_count": null,
      "outputs": []
    },
    {
      "cell_type": "markdown",
      "source": [
        "\n",
        "\n",
        "*  Most number of bookings is done by TA/TO followed by Direct and then Corporate\n",
        "\n",
        "\n"
      ],
      "metadata": {
        "id": "SiI1DnbAfr2y"
      }
    },
    {
      "cell_type": "code",
      "source": [
        "bookings_cancel=df[df[\"is_canceled\"]!=0].groupby(\"distribution_channel\")[\"is_canceled\"].count()\n",
        "bookings_cancel"
      ],
      "metadata": {
        "id": "kdw5Gwqsfqf-"
      },
      "execution_count": null,
      "outputs": []
    },
    {
      "cell_type": "markdown",
      "source": [
        "\n",
        "\n",
        "*   Most number of Booking cancellation is done by TA/TO followed by Direct and then Corporate\n",
        "\n",
        "\n"
      ],
      "metadata": {
        "id": "2aPmyBzFf23h"
      }
    },
    {
      "cell_type": "code",
      "source": [
        "((bookings_cancel / total_bookings)*100)[0:4]"
      ],
      "metadata": {
        "id": "R5TkJx4_f13z"
      },
      "execution_count": null,
      "outputs": []
    },
    {
      "cell_type": "markdown",
      "source": [
        "*   41.9% of bookings given by Travel agents/ Tour Operator are getting cancelled\n",
        "\n",
        "\n",
        "\n",
        "---\n",
        "\n",
        "\n",
        "\n",
        "\n",
        "\n",
        "\n"
      ],
      "metadata": {
        "id": "sCs9mauRgGF5"
      }
    },
    {
      "cell_type": "markdown",
      "source": [
        "## Booking changes"
      ],
      "metadata": {
        "id": "K9Npab71hkp8"
      }
    },
    {
      "cell_type": "code",
      "source": [
        "total_bookings"
      ],
      "metadata": {
        "id": "dKE4pFyJgEEE"
      },
      "execution_count": null,
      "outputs": []
    },
    {
      "cell_type": "markdown",
      "source": [
        "*  Most number of bookings are done by TA/TO followed by Direct and then Corporate\n",
        "\n",
        "\n"
      ],
      "metadata": {
        "id": "TlD_IAXtgEx0"
      }
    },
    {
      "cell_type": "code",
      "source": [
        "booking_changes=df[df[\"booking_changes\"]!=0].groupby(\"distribution_channel\")[\"booking_changes\"].sum()\n",
        "booking_changes"
      ],
      "metadata": {
        "id": "a4oahPmGh9h1"
      },
      "execution_count": null,
      "outputs": []
    },
    {
      "cell_type": "markdown",
      "source": [
        "\n",
        "\n",
        "*   Most number of bookings changes are done by TA/TO followed by Direct and then Corporate\n",
        "\n",
        "\n"
      ],
      "metadata": {
        "id": "c3rhj9RQiDXU"
      }
    },
    {
      "cell_type": "code",
      "source": [
        "(booking_changes / total_bookings ) * 100"
      ],
      "metadata": {
        "id": "RF6MnsCgiC5i"
      },
      "execution_count": null,
      "outputs": []
    },
    {
      "cell_type": "markdown",
      "source": [
        "\n",
        "\n",
        "*   36.4% of Corporate customers are making changes in their bookings\n",
        "*   39.8% of Direct customers are making changes in their bookings\n",
        "\n",
        "# ---------------------------------------------------------------------------------------------------------------------------------------------------------\n",
        "\n"
      ],
      "metadata": {
        "id": "25_PKR79iOjp"
      }
    },
    {
      "cell_type": "markdown",
      "source": [
        "# Arrival Date Month"
      ],
      "metadata": {
        "id": "wOvyrJYUitSm"
      }
    },
    {
      "cell_type": "code",
      "source": [
        "print(\"City Hotel monthwise bookings\")\n",
        "print(50*\"*\")\n",
        "df[df[\"hotel\"]==\"City Hotel\"][\"date\"].dt.month_name().value_counts()"
      ],
      "metadata": {
        "id": "_XYlmv-NiN5I"
      },
      "execution_count": null,
      "outputs": []
    },
    {
      "cell_type": "code",
      "source": [
        "print(\"Resort Hotel monthwise bookings\")\n",
        "print(50*\"*\")\n",
        "df[df[\"hotel\"]==\"Resort Hotel\"][\"date\"].dt.month_name().value_counts()"
      ],
      "metadata": {
        "id": "rbPRl4YBjIwT"
      },
      "execution_count": null,
      "outputs": []
    },
    {
      "cell_type": "markdown",
      "source": [
        "\n",
        "\n",
        "*   Using the above data we can derive that peak season for City Hotel is from September-to- August\n",
        "*   Using the above data we can derive that peak season for Resort Hotel are July and August\n",
        "\n",
        "\n",
        "#--------------------------------------------------------------------------------------------------------------------------------------------------------------------------------------------\n"
      ],
      "metadata": {
        "id": "e1D-Q59Jn3YA"
      }
    },
    {
      "cell_type": "markdown",
      "source": [
        "##Country"
      ],
      "metadata": {
        "id": "w4bZCIbcoRmg"
      }
    },
    {
      "cell_type": "code",
      "source": [
        "df.value_counts(\"country\", normalize=True).iloc[0:3]"
      ],
      "metadata": {
        "id": "m49Yz7PRjMSY"
      },
      "execution_count": null,
      "outputs": []
    },
    {
      "cell_type": "markdown",
      "source": [
        "\n",
        "*  Most number of bookings is coming from PORTUGAL40% and Great Britain 11%\n"
      ],
      "metadata": {
        "id": "Klq3TQYPHkTG"
      }
    },
    {
      "cell_type": "code",
      "source": [
        "df.value_counts('agent',normalize=True).iloc[0:3]"
      ],
      "metadata": {
        "id": "jqRgbavnobru"
      },
      "execution_count": null,
      "outputs": []
    },
    {
      "cell_type": "markdown",
      "source": [
        "\n",
        "\n",
        "\n",
        "* Highest number of bookings (31%) is done by agent with ID number 9.0\n",
        "\n",
        "\n"
      ],
      "metadata": {
        "id": "a1sQLoQ3I5el"
      }
    },
    {
      "cell_type": "code",
      "source": [
        "df[df[\"hotel\"]==\"City Hotel\"][\"agent\"].value_counts(normalize=True).iloc[0:3]"
      ],
      "metadata": {
        "id": "oxwRFC8gI40r"
      },
      "execution_count": null,
      "outputs": []
    },
    {
      "cell_type": "markdown",
      "source": [
        "\n",
        "\n",
        "\n",
        "*   Highest number of bookings 44% is done by agent with ID number 9.0 in City Hotel\n",
        "\n",
        "\n"
      ],
      "metadata": {
        "id": "5KHoFjbnLxbO"
      }
    },
    {
      "cell_type": "code",
      "source": [
        "df[df[\"hotel\"]==\"Resort Hotel\"][\"agent\"].value_counts(normalize=True).iloc[0:3]"
      ],
      "metadata": {
        "id": "4Fodiq0cLuHc"
      },
      "execution_count": null,
      "outputs": []
    },
    {
      "cell_type": "markdown",
      "source": [
        "*  \n",
        "Highest number of bookings (43.6%) is done by agent with ID number 240 in Resort Hotel\n",
        "\n",
        "#--------------------------------------------------------------------------------------------------------------------------------------------------------------------------------------------\n"
      ],
      "metadata": {
        "id": "saSkSzLMMBkC"
      }
    },
    {
      "cell_type": "markdown",
      "source": [
        "## Deposite type"
      ],
      "metadata": {
        "id": "oYY69nd6Mh6W"
      }
    },
    {
      "cell_type": "code",
      "source": [
        "df.groupby([\"deposit_type\"])[\"is_canceled\"].sum()"
      ],
      "metadata": {
        "id": "JBgWcRkUL-V-"
      },
      "execution_count": null,
      "outputs": []
    },
    {
      "cell_type": "markdown",
      "source": [
        "\n",
        "\n",
        "*   Highest number of cancellations is done when NO DEPOSIT is made at the time of reservation\n",
        "\n",
        "\n"
      ],
      "metadata": {
        "id": "_YgqNn3BMuGl"
      }
    },
    {
      "cell_type": "markdown",
      "source": [
        "# What all manipulations have you done and insights you found?\n",
        "\n"
      ],
      "metadata": {
        "id": "MSa1f5Uengrz"
      }
    },
    {
      "cell_type": "markdown",
      "source": [
        "\n",
        "\n",
        "*   Fisrt we create a copy of our dataset to keep our dataset as at is.\n",
        "*   Check duplicates rows, found that 31994 rows are duplicate, so we removed these values using drop.duplicated() function.\n",
        "\n",
        "\n",
        "*  Check which column has null values, and found that company is 94%, agent 14%, country 0.51% and children 0.004 % null values are present.\n",
        "*  Plotting a Heatmap to visualize the missing values in columns\n",
        "*   Almost 94% value is missing in company column, so it is better to drop the column company\n",
        "* Canceled bookings and Repeated guests ----->\n",
        "   1. Repeated guests in City Hotel is around 2.5 %\n",
        "   2. Canceled bookings in City hotel is around 41 %\n",
        "   3. Repeated guests in Resort Hotel is around 4.4 %\n",
        "   4. Canceled bookings in Resort hotel is around 27 %\n",
        "\n",
        "* Most number of bookings is done by TA/TO followed by Direct and then Corporate\n",
        "* Most number of Booking cancellation is done by TA/TO followed by Direct and then Corporate\n",
        "* 41.9% of bookings given by Travel agents/ Tour Operator are getting cancelled\n",
        "* Most number of bookings are done by TA/TO followed by Direct and then Corporate\n",
        "* Booking changes----->\n",
        "   1.    36.4% of Corporate customers are making changes in their bookings\n",
        "   2.    39.8% of Direct customers are making changes in their bookings\n",
        "\n",
        "* Arrival Date Month----->\n",
        "   1. Using the above data we can derive that peak season for City Hotel is from September -to- August\n",
        "   2. Using the above data we can derive that peak season for Resort Hotel are July and August\n",
        "* Most number of bookings is coming from PORTUGAL 40% and Great Britain 11%\n",
        "* agent----->\n",
        "   1. Highest number of bookings 44% is done by agent with ID number 9.0 in City Hotel\n",
        "   2. Highest number of bookings 43.5% is done by agent with ID number 240 in Resort Hotel\n",
        "\n",
        "* Highest number of cancellations is done when NO DEPOSIT is made at the time of reservation\n",
        "\n",
        "\n",
        "\n",
        "\n",
        "\n",
        "\n",
        "\n",
        "\n",
        "\n",
        "\n",
        "\n"
      ],
      "metadata": {
        "id": "wl47qxXtVHc9"
      }
    },
    {
      "cell_type": "markdown",
      "source": [
        "## Data Manipulation\n",
        "\n",
        "\n",
        "* Combine children and baby column into 1 column as total_children and then drop old columns\n",
        "\n",
        "* Combine children and adults into one column as Total_persons\n",
        "\n",
        "* make a date column by combining 3 columns arrival_date_year , arrival_date_month and arrival_date_day_of_month as date\n",
        "* converting newly made date column to datetime column and then verifying the correction\n",
        "\n"
      ],
      "metadata": {
        "id": "AWyat_Znc60A"
      }
    },
    {
      "cell_type": "markdown",
      "source": [
        "## ***4. Data Vizualization, Storytelling & Experimenting with charts : Understand the relationships between variables***"
      ],
      "metadata": {
        "id": "GF8Ens_Soomf"
      }
    },
    {
      "cell_type": "markdown",
      "source": [
        "#### Chart - 1"
      ],
      "metadata": {
        "id": "0wOQAZs5pc--"
      }
    },
    {
      "cell_type": "code",
      "source": [
        "# Chart - 1 visualization code\n",
        "plt.figure(figsize=(4,4))\n",
        "plt.pie(df['is_canceled'].value_counts(),shadow=True,autopct='%1.3f%%',labels=('not canceled bookings','canceled bookings'),explode=(0.2,0),startangle=90,colors\n",
        "        =['lightcoral','pink'])\n",
        "plt.show()"
      ],
      "metadata": {
        "id": "7v_ESjsspbW7"
      },
      "execution_count": null,
      "outputs": []
    },
    {
      "cell_type": "markdown",
      "source": [
        "##### 1. Why did you pick the specific chart?\n"
      ],
      "metadata": {
        "id": "K5QZ13OEpz2H"
      }
    },
    {
      "cell_type": "markdown",
      "source": [
        "Answer-> In pie chart it is easy to explain the comparison between two or more variables using the percentage terms through area covered in a circle with different colors. So, I used Pie chart and which helped me to get the percentage comparision between canceled and Not canceled bookings."
      ],
      "metadata": {
        "id": "XESiWehPqBRc"
      }
    },
    {
      "cell_type": "markdown",
      "source": [
        "##### 2. What is/are the insight(s) found from the chart?"
      ],
      "metadata": {
        "id": "lQ7QKXXCp7Bj"
      }
    },
    {
      "cell_type": "markdown",
      "source": [
        "Answer -> From the above pie chart we can clearly see that the percentage of\n",
        "- Not canceled bookings is 72.5%\n",
        "- Canceled bookings is 27.5%  "
      ],
      "metadata": {
        "id": "C_j1G7yiqdRP"
      }
    },
    {
      "cell_type": "markdown",
      "source": [
        "##### 3. Will the gained insights help creating a positive business impact?\n",
        "Are there any insights that lead to negative growth? Justify with specific reason."
      ],
      "metadata": {
        "id": "448CDAPjqfQr"
      }
    },
    {
      "cell_type": "markdown",
      "source": [
        "Answer -> Using the data we can clearly say that the average cancellation percentage of these hotels is much higher than the industry average cancelltaion rate. So, if this cancellation rate continues or increases in the future this will lead to major problems for the hotels"
      ],
      "metadata": {
        "id": "3cspy4FjqxJW"
      }
    },
    {
      "cell_type": "markdown",
      "source": [
        "#### Chart - 2"
      ],
      "metadata": {
        "id": "KSlN3yHqYklG"
      }
    },
    {
      "cell_type": "code",
      "source": [
        "# Chart - 2 visualization code\n",
        "sns.countplot(x=df[\"is_canceled\"],hue=df[\"hotel\"],palette=\"rocket\")\n",
        "plt.title(\"Cancellations as per Hotels\")\n",
        "plt.xticks(ticks=[0,1],labels=[\" Not Canceled\",\"Canceled\"])\n",
        "plt.xlabel(\"\")\n",
        "plt.ylabel(\"Number of Bookings\")\n",
        "plt.show()\n",
        "\n",
        "print(cancel)\n"
      ],
      "metadata": {
        "id": "R4YgtaqtYklH"
      },
      "execution_count": null,
      "outputs": []
    },
    {
      "cell_type": "markdown",
      "source": [
        "##### 1. Why did you pick the specific chart?"
      ],
      "metadata": {
        "id": "t6dVpIINYklI"
      }
    },
    {
      "cell_type": "markdown",
      "source": [
        "Answer) The count plot is used to represent the occurance(counts) of the observation present in the catogorical data. So, i decided to use this plot so as to visualize the canceled bookings and not canceled booking on both city hotels and resort."
      ],
      "metadata": {
        "id": "5aaW0BYyYklI"
      }
    },
    {
      "cell_type": "markdown",
      "source": [
        "##### 2. What is/are the insight(s) found from the chart?"
      ],
      "metadata": {
        "id": "ijmpgYnKYklI"
      }
    },
    {
      "cell_type": "markdown",
      "source": [
        "Answer\n",
        "- Percentage of canceled booking in Resort hotel is 23.48%\n",
        "- Percentage of canceled booking in City hotel is 30%\n",
        "\n",
        "We can clearly see that no of canceled bookings in the City hotel is much higher when compared to Resort hotel. Average cancellation rate of both hotels combined is 27.5% whereas cancellation rate of City hotel is 30% which is higher than average percentage but in resort hotel cancellation percentage is 23.48% which is less than average percentage"
      ],
      "metadata": {
        "id": "PSx9atu2YklI"
      }
    },
    {
      "cell_type": "markdown",
      "source": [
        "##### 3. Will the gained insights help creating a positive business impact?\n",
        "Are there any insights that lead to negative growth? Justify with specific reason."
      ],
      "metadata": {
        "id": "-JiQyfWJYklI"
      }
    },
    {
      "cell_type": "markdown",
      "source": [
        "Answer )\n",
        "  We can see that cancellation rate of city hotels is higher then the average cancellation rate of both combined which is major problematic factor for them . So they need to resevise their cancellation policies so as to get more positive impact on their hotels"
      ],
      "metadata": {
        "id": "BcBbebzrYklV"
      }
    },
    {
      "cell_type": "markdown",
      "source": [
        "#### Chart - 3"
      ],
      "metadata": {
        "id": "EM7whBJCYoAo"
      }
    },
    {
      "cell_type": "code",
      "source": [
        "# Chart - 3 visualization code\n",
        "plt.figure(figsize=(4,3))\n",
        "sns.histplot(data=df,x=\"market_segment\",color=\"chocolate\")\n",
        "plt.xticks(rotation=\"vertical\")\n",
        "plt.title(\"Number of bookings as per Market Segment\")\n",
        "plt.ylabel(\"Number of Customers\")\n",
        "plt.xlabel(\"Market Segments\")\n",
        "plt.show()"
      ],
      "metadata": {
        "id": "t6GMdE67YoAp"
      },
      "execution_count": null,
      "outputs": []
    },
    {
      "cell_type": "markdown",
      "source": [
        "##### 1. Why did you pick the specific chart?"
      ],
      "metadata": {
        "id": "fge-S5ZAYoAp"
      }
    },
    {
      "cell_type": "markdown",
      "source": [
        "Answer) A histogram is a graph that shows the frequency of numerical data using rectangle which are joined together. The height of a rectangle (the vertical axis) represents the distribution frequency of a variable. I wanted to know how many bookings are made through various market segments"
      ],
      "metadata": {
        "id": "5dBItgRVYoAp"
      }
    },
    {
      "cell_type": "markdown",
      "source": [
        "##### 2. What is/are the insight(s) found from the chart?"
      ],
      "metadata": {
        "id": "85gYPyotYoAp"
      }
    },
    {
      "cell_type": "markdown",
      "source": [
        "Answer we can clearly see that from above histogram most number of bookings is coming from\n",
        "- (**1**) Online TA\n",
        "- (**2**) Offline TA/TO"
      ],
      "metadata": {
        "id": "4jstXR6OYoAp"
      }
    },
    {
      "cell_type": "markdown",
      "source": [
        "##### 3. Will the gained insights help creating a positive business impact?\n",
        "Are there any insights that lead to negative growth? Justify with specific reason."
      ],
      "metadata": {
        "id": "RoGjAbkUYoAp"
      }
    },
    {
      "cell_type": "markdown",
      "source": [
        "Answer Hotels need to focus more on other market segments such as Direct Corporate Complementary Groups and AViation by providing offers so that the bookings by these market segments gets increased."
      ],
      "metadata": {
        "id": "zfJ8IqMcYoAp"
      }
    },
    {
      "cell_type": "markdown",
      "source": [
        "#### Chart - 4"
      ],
      "metadata": {
        "id": "4Of9eVA-YrdM"
      }
    },
    {
      "cell_type": "code",
      "source": [
        "sns.set(rc={'figure.figsize':(18,8)})\n",
        "sns.set_palette('husl')\n",
        "graph = sns.countplot(x='meal',hue='hotel',data=df)\n",
        "graph.set_title('Preference of meal for different customer type',fontsize = 16, fontweight='bold')\n",
        "graph.set_xlabel('Meal Type',fontsize = 14)\n",
        "graph.set_ylabel('No. of People',fontsize = 14)\n",
        "for bar in graph.containers:\n",
        "   graph.bar_label(bar)\n",
        "plt.show()"
      ],
      "metadata": {
        "id": "irlUoxc8YrdO"
      },
      "execution_count": null,
      "outputs": []
    },
    {
      "cell_type": "markdown",
      "source": [
        "##### 1. Why did you pick the specific chart?"
      ],
      "metadata": {
        "id": "iky9q4vBYrdO"
      }
    },
    {
      "cell_type": "markdown",
      "source": [
        "Answer) As it is Univariate analysis, which is to identify from one variable or one column. we have choosen bar graph."
      ],
      "metadata": {
        "id": "aJRCwT6DYrdO"
      }
    },
    {
      "cell_type": "markdown",
      "source": [
        "##### 2. What is/are the insight(s) found from the chart?"
      ],
      "metadata": {
        "id": "F6T5p64dYrdO"
      }
    },
    {
      "cell_type": "markdown",
      "source": [
        "Answer Bread & Breakfast (BB) is the most preferred meal by the customers."
      ],
      "metadata": {
        "id": "Xx8WAJvtYrdO"
      }
    },
    {
      "cell_type": "markdown",
      "source": [
        "##### 3. Will the gained insights help creating a positive business impact?\n",
        "Are there any insights that lead to negative growth? Justify with specific reason."
      ],
      "metadata": {
        "id": "y-Ehk30pYrdP"
      }
    },
    {
      "cell_type": "markdown",
      "source": [
        "Answer As most customers prefer Bread & Breakfast (BB), the hotel management can introduce offers on Full Board (FB) meal, which can increase revenue as well."
      ],
      "metadata": {
        "id": "jLNxxz7MYrdP"
      }
    },
    {
      "cell_type": "markdown",
      "source": [
        "#### Chart - 5"
      ],
      "metadata": {
        "id": "bamQiAODYuh1"
      }
    },
    {
      "cell_type": "code",
      "source": [
        "# Chart - 5 visualization code\n",
        "# Univariate Analysis\n",
        "\n",
        "plt.rcParams['figure.figsize'] = 12,9\n",
        "labels = df['hotel'].value_counts().index.tolist()      # Create labels -> ['City Hotel', 'Resort Hotel']\n",
        "x = df['hotel'].value_counts().tolist()              # counts of each hotel -> [53428, 33968]\n",
        "plt.title('Booking percentage of Hotels',bbox={'facecolor':'0.9', 'pad': 5})\n",
        "plt.pie(x, explode=(0, 0.08), labels=labels,autopct='%1.1f%%',startangle=90, textprops={'fontsize': 14},shadow=True)\n",
        "plt.show()"
      ],
      "metadata": {
        "id": "TIJwrbroYuh3"
      },
      "execution_count": null,
      "outputs": []
    },
    {
      "cell_type": "markdown",
      "source": [
        "##### 1. Why did you pick the specific chart?"
      ],
      "metadata": {
        "id": "QHF8YVU7Yuh3"
      }
    },
    {
      "cell_type": "markdown",
      "source": [
        "Answer) As this is a Univariate Analysis, we compare the data from one variable or one column 'hotel', so we have considered pie chart"
      ],
      "metadata": {
        "id": "dcxuIMRPYuh3"
      }
    },
    {
      "cell_type": "markdown",
      "source": [
        "##### 2. What is/are the insight(s) found from the chart?"
      ],
      "metadata": {
        "id": "GwzvFGzlYuh3"
      }
    },
    {
      "cell_type": "markdown",
      "source": [
        "Answer) We found that the booking number is Higher in City Hotel which is 61.1% than Resort Hotel which is 38.9%. Hence we can say that City hotel has more consumption."
      ],
      "metadata": {
        "id": "uyqkiB8YYuh3"
      }
    },
    {
      "cell_type": "markdown",
      "source": [
        "##### 3. Will the gained insights help creating a positive business impact?\n",
        "Are there any insights that lead to negative growth? Justify with specific reason."
      ],
      "metadata": {
        "id": "qYpmQ266Yuh3"
      }
    },
    {
      "cell_type": "markdown",
      "source": [
        "Answer)\n",
        "* City Hotel :- Provided more services to attract more guest to increase more revenue.\n",
        "\n",
        "* Resort Hotel :- Find solution to attract guest and find what city hotel did to attract guest."
      ],
      "metadata": {
        "id": "_WtzZ_hCYuh4"
      }
    },
    {
      "cell_type": "markdown",
      "source": [
        "#### Chart - 6"
      ],
      "metadata": {
        "id": "OH-pJp9IphqM"
      }
    },
    {
      "cell_type": "code",
      "source": [
        "# Chart - 6 visualization code\n",
        "# Bivariate Analysis\n",
        "grouped_by_hotel = df.groupby('hotel')   # did groupby on hotel\n",
        "d3 = grouped_by_hotel['revenue'].agg(np.mean).reset_index().rename(columns = {'revenue':'average_revenue'})  # calculating average revenue hotel wise\n",
        "plt.figure(figsize=(6,8))\n",
        "ax=sns.barplot(x=d3['hotel'],y=d3['average_revenue'])\n",
        "\n",
        "# Annotating each bar with the corresponding value\n",
        "for index, row in d3.iterrows():\n",
        "    ax.text(row.name, row['average_revenue'], round(row['average_revenue'], 2), color='black', ha=\"center\", va=\"bottom\")\n",
        "plt.show()\n"
      ],
      "metadata": {
        "id": "kuRf4wtuphqN"
      },
      "execution_count": null,
      "outputs": []
    },
    {
      "cell_type": "markdown",
      "source": [
        "##### 1. Why did you pick the specific chart?"
      ],
      "metadata": {
        "id": "bbFf2-_FphqN"
      }
    },
    {
      "cell_type": "markdown",
      "source": [
        "Answer As we are analysing hotel and adr variables, to know which hotel is making more revenue, we have choosed bar graph."
      ],
      "metadata": {
        "id": "loh7H2nzphqN"
      }
    },
    {
      "cell_type": "markdown",
      "source": [
        "##### 2. What is/are the insight(s) found from the chart?"
      ],
      "metadata": {
        "id": "_ouA3fa0phqN"
      }
    },
    {
      "cell_type": "markdown",
      "source": [
        "Answer City Hotel is making more revenue than the Resort Hotel, which can be depicted as the City Hotel has significantly more bookings than the Resort Hotel."
      ],
      "metadata": {
        "id": "VECbqPI7phqN"
      }
    },
    {
      "cell_type": "markdown",
      "source": [
        "##### 3. Will the gained insights help creating a positive business impact?\n",
        "Are there any insights that lead to negative growth? Justify with specific reason."
      ],
      "metadata": {
        "id": "Seke61FWphqN"
      }
    },
    {
      "cell_type": "markdown",
      "source": [
        "Answer From the above bar graph, City Hotel is making more revenue than the Resort Hotel. The Resort Hotel management may consider to give complimentary meals and combo packages (adventure packages, tourism packages) to attract more customers and to increase hotel bookings, which increases revenue to the hotel."
      ],
      "metadata": {
        "id": "DW4_bGpfphqN"
      }
    },
    {
      "cell_type": "markdown",
      "source": [
        "#### Chart - 7"
      ],
      "metadata": {
        "id": "PIIx-8_IphqN"
      }
    },
    {
      "cell_type": "code",
      "source": [
        "# Chart - 7 visualization code\n",
        "# Bivariate Analysis\n",
        "not_canceled = df[df['is_canceled'] == 0]     # it gives us non canceled booking\n",
        "s1 = not_canceled[not_canceled['total_stay'] < 15]\n",
        "plt.figure(figsize = (9,7))\n",
        "sns.countplot(x = s1['total_stay'], hue = s1['hotel'],palette='dark')\n",
        "plt.title('most preferred length of stay in each hotel',bbox={'facecolor':'0.8', 'pad':3})\n",
        "plt.show()"
      ],
      "metadata": {
        "id": "lqAIGUfyphqO"
      },
      "execution_count": null,
      "outputs": []
    },
    {
      "cell_type": "markdown",
      "source": [
        "##### 1. Why did you pick the specific chart?"
      ],
      "metadata": {
        "id": "t27r6nlMphqO"
      }
    },
    {
      "cell_type": "markdown",
      "source": [
        "Answer As this analysis is a Bivariate Analysis, we considered bar graph in order to visualize the most preferred stay in each hotel respectively"
      ],
      "metadata": {
        "id": "iv6ro40sphqO"
      }
    },
    {
      "cell_type": "markdown",
      "source": [
        "##### 2. What is/are the insight(s) found from the chart?"
      ],
      "metadata": {
        "id": "r2jJGEOYphqO"
      }
    },
    {
      "cell_type": "markdown",
      "source": [
        "Answer From the above bar graph, we can see that most preferred stay is 3 days. Most of the customers prefer City Hotel for shorter stay and Resort Hotel for longer stays."
      ],
      "metadata": {
        "id": "Po6ZPi4hphqO"
      }
    },
    {
      "cell_type": "markdown",
      "source": [
        "##### 3. Will the gained insights help creating a positive business impact?\n",
        "Are there any insights that lead to negative growth? Justify with specific reason."
      ],
      "metadata": {
        "id": "b0JNsNcRphqO"
      }
    },
    {
      "cell_type": "markdown",
      "source": [
        "Answer As customers are preferring Resort Hotel for longer stay, hotel management can introduce free gift coupons, loyalty service, complimentary services and combo tourism packages for nearby places in order to make customers redundent, which will increase revenue as well."
      ],
      "metadata": {
        "id": "xvSq8iUTphqO"
      }
    },
    {
      "cell_type": "markdown",
      "source": [
        "#### Chart - 8"
      ],
      "metadata": {
        "id": "BZR9WyysphqO"
      }
    },
    {
      "cell_type": "code",
      "source": [
        "\n",
        "\n",
        "# Chart - 8 visualization code\n",
        "dc = df.groupby('distribution_channel')\n",
        "d1 = pd.DataFrame(round((dc.size() /  df.shape[0]) * 100,2)).reset_index().rename(columns = {0: 'Booking_%'})\n",
        "d1"
      ],
      "metadata": {
        "id": "TdPTWpAVphqO"
      },
      "execution_count": null,
      "outputs": []
    },
    {
      "cell_type": "code",
      "source": [
        "plt.figure(figsize = (9,9))\n",
        "data = d1['Booking_%']\n",
        "labels = d1['distribution_channel']\n",
        "plt.pie(x = data, autopct = \"%0.2f%%\", explode=[0.04] * 5, labels = labels, pctdistance = 0.8)\n",
        "plt.title(\"Distribution Channels Booking %\", fontsize = 15);\n"
      ],
      "metadata": {
        "id": "Iaz5ZibwzR_X"
      },
      "execution_count": null,
      "outputs": []
    },
    {
      "cell_type": "markdown",
      "source": [
        "##### 1. Why did you pick the specific chart?"
      ],
      "metadata": {
        "id": "jj7wYXLtphqO"
      }
    },
    {
      "cell_type": "markdown",
      "source": [
        "Answer We are analysing the most preferred distribution channes for hotel bookings, which most of the customers used with the help of pie chart. As pie chart gives detailed information, we have choosen pie chart"
      ],
      "metadata": {
        "id": "Ob8u6rCTphqO"
      }
    },
    {
      "cell_type": "markdown",
      "source": [
        "##### 2. What is/are the insight(s) found from the chart?"
      ],
      "metadata": {
        "id": "eZrbJ2SmphqO"
      }
    },
    {
      "cell_type": "markdown",
      "source": [
        "Answer) 79% of the customers has choosen Travel Agent / Tour Operator (TA/TO) for hotel booking, followed by direct bookings and corporate are 15% and 6% respectivelyAnswer Here"
      ],
      "metadata": {
        "id": "mZtgC_hjphqO"
      }
    },
    {
      "cell_type": "markdown",
      "source": [
        "##### 3. Will the gained insights help creating a positive business impact?\n",
        "Are there any insights that lead to negative growth? Justify with specific reason."
      ],
      "metadata": {
        "id": "rFu4xreNphqO"
      }
    },
    {
      "cell_type": "markdown",
      "source": [
        "\n",
        "Answer The hotel management can offer discounts, complimentary services and offers on direct bookings as the hotel doesn’t pay commissions to third parties and maintains a direct relationship with the customer when a customer books the hotel directly\n",
        "\n",
        "\n"
      ],
      "metadata": {
        "id": "ey_0qi68phqO"
      }
    },
    {
      "cell_type": "markdown",
      "source": [
        "#### Chart - 9"
      ],
      "metadata": {
        "id": "YJ55k-q6phqO"
      }
    },
    {
      "cell_type": "code",
      "source": [
        "# Chart - 9 visualization code\n",
        "#  Univariate Analysis\n",
        "d1 = pd.DataFrame((dc['is_canceled'].sum() / dc.size()) * 100).drop(index = 'Undefined').rename(columns = {0: 'Cancel_%'})\n",
        "d1\n",
        "plt.figure(figsize = (8,6))\n",
        "sns.barplot(x = d1.index, y = d1['Cancel_%'])\n",
        "plt.title('Highest cancellation % among all distribution channels',bbox={'facecolor':'0.8', 'pad':3})\n",
        "plt.show()"
      ],
      "metadata": {
        "id": "B2aS4O1ophqO"
      },
      "execution_count": null,
      "outputs": []
    },
    {
      "cell_type": "markdown",
      "source": [
        "##### 1. Why did you pick the specific chart?"
      ],
      "metadata": {
        "id": "gCFgpxoyphqP"
      }
    },
    {
      "cell_type": "markdown",
      "source": [
        "Answer We have choosen bar graph as we are using single variable to understand which distribution channel has highest booking cancellation percentage."
      ],
      "metadata": {
        "id": "TVxDimi2phqP"
      }
    },
    {
      "cell_type": "markdown",
      "source": [
        "##### 2. What is/are the insight(s) found from the chart?"
      ],
      "metadata": {
        "id": "OVtJsKN_phqQ"
      }
    },
    {
      "cell_type": "markdown",
      "source": [
        "Answer Travel Agent / Tour Operator (TA/TO) has the highest booking cancellation percentage."
      ],
      "metadata": {
        "id": "ngGi97qjphqQ"
      }
    },
    {
      "cell_type": "markdown",
      "source": [
        "##### 3. Will the gained insights help creating a positive business impact?\n",
        "Are there any insights that lead to negative growth? Justify with specific reason."
      ],
      "metadata": {
        "id": "lssrdh5qphqQ"
      }
    },
    {
      "cell_type": "markdown",
      "source": [
        "Answer As TA/TO has highest number of booking cancellations of around 30%, the hotel management may introduce offers for direct bookings in order to reduce cancellations and increase direct bookings."
      ],
      "metadata": {
        "id": "tBpY5ekJphqQ"
      }
    },
    {
      "cell_type": "markdown",
      "source": [
        "#### Chart - 10"
      ],
      "metadata": {
        "id": "U2RJ9gkRphqQ"
      }
    },
    {
      "cell_type": "code",
      "source": [
        "\n",
        "# Chart - 10 visualization code\n",
        "# To identify which room type is in most demand and which room type generate the highest adr.\n",
        "fig, axes = plt.subplots(1, 2, figsize = (18, 9))\n",
        "room = df.groupby('assigned_room_type')\n",
        "d1['Num_of_bookings'] = room.size()\n",
        "plot = sns.countplot(ax = axes[0], x = df['assigned_room_type'])\n",
        "for bar in plot.containers:\n",
        "  plot.bar_label(bar)\n",
        "sns.boxplot(ax = axes[1], x = df['assigned_room_type'], y = df['adr'])\n",
        "plt.show()"
      ],
      "metadata": {
        "id": "GM7a4YP4phqQ"
      },
      "execution_count": null,
      "outputs": []
    },
    {
      "cell_type": "markdown",
      "source": [
        "##### 1. Why did you pick the specific chart?"
      ],
      "metadata": {
        "id": "1M8mcRywphqQ"
      }
    },
    {
      "cell_type": "markdown",
      "source": [
        "Answer As we are performing Multivariate Analysis to identify which room type is in most demand and which room type generate the highest adr, we have choosed bar graph and boxplot to understand better."
      ],
      "metadata": {
        "id": "8agQvks0phqQ"
      }
    },
    {
      "cell_type": "markdown",
      "source": [
        "##### 2. What is/are the insight(s) found from the chart?"
      ],
      "metadata": {
        "id": "tgIPom80phqQ"
      }
    },
    {
      "cell_type": "markdown",
      "source": [
        "Answer From the above graphs, we ca identofy that roomtype A is the most demanded rooms by the customer while booking, whereas room types H,G,C are generating more adr respectively."
      ],
      "metadata": {
        "id": "Qp13pnNzphqQ"
      }
    },
    {
      "cell_type": "markdown",
      "source": [
        "##### 3. Will the gained insights help creating a positive business impact?\n",
        "Are there any insights that lead to negative growth? Justify with specific reason."
      ],
      "metadata": {
        "id": "JMzcOPDDphqR"
      }
    },
    {
      "cell_type": "markdown",
      "source": [
        "Answer\n",
        "Hotel management sholud consider to increase room types A, H in order to ger more revenue and increase adr respectively."
      ],
      "metadata": {
        "id": "R4Ka1PC2phqR"
      }
    },
    {
      "cell_type": "markdown",
      "source": [
        "#### Chart - 11"
      ],
      "metadata": {
        "id": "x-EpHcCOp1ci"
      }
    },
    {
      "cell_type": "code",
      "source": [
        "# Chart - 11 visualization code\n",
        "# Length of stay vs adr\n",
        "plt.figure(figsize = (15,9))\n",
        "plt.ylim(0,500)\n",
        "sns.scatterplot(y = 'adr', x = 'total_stay', data = df)\n",
        "plt.title('Length of  total stay duration vs adr',bbox={'facecolor':'0.8', 'pad':3})\n",
        "plt.xlabel('Total stay duration in Days')\n",
        "plt.show()\n"
      ],
      "metadata": {
        "id": "mAQTIvtqp1cj"
      },
      "execution_count": null,
      "outputs": []
    },
    {
      "cell_type": "markdown",
      "source": [
        "##### 1. Why did you pick the specific chart?"
      ],
      "metadata": {
        "id": "X_VqEhTip1ck"
      }
    },
    {
      "cell_type": "markdown",
      "source": [
        "Answer To understand the effect of total stay on adr, we have choosed scatterplot. However, we notice that there is an outliner in adr, we will remove for better scatterplot."
      ],
      "metadata": {
        "id": "-vsMzt_np1ck"
      }
    },
    {
      "cell_type": "markdown",
      "source": [
        "##### 2. What is/are the insight(s) found from the chart?"
      ],
      "metadata": {
        "id": "8zGJKyg5p1ck"
      }
    },
    {
      "cell_type": "markdown",
      "source": [
        "Answer From the scatter plot, it is clearly visible that length of total_stay increases, adr decreases. Customers who stay for less than 10 days pay more price when compared with the customers who stay for 30 days or more. For longer stay, the better deal for customers."
      ],
      "metadata": {
        "id": "ZYdMsrqVp1ck"
      }
    },
    {
      "cell_type": "markdown",
      "source": [
        "##### 3. Will the gained insights help creating a positive business impact?\n",
        "Are there any insights that lead to negative growth? Justify with specific reason."
      ],
      "metadata": {
        "id": "PVzmfK_Ep1ck"
      }
    },
    {
      "cell_type": "markdown",
      "source": [
        "Answer while the gained insights have the potential to create a positive business impact by optimizing pricing and inventory management, they also warn of possible pitfalls like underpricing or overly aggressive discounting, which could lead to negative growth if not carefully managed."
      ],
      "metadata": {
        "id": "druuKYZpp1ck"
      }
    },
    {
      "cell_type": "markdown",
      "source": [
        "#### Chart - 12"
      ],
      "metadata": {
        "id": "n3dbpmDWp1ck"
      }
    },
    {
      "cell_type": "code",
      "source": [
        "# Chart - 12 visualization code\n",
        "# Chart - 10 visualization code\n",
        "# top 10 country guest\n",
        "guest_country_wise = pd.DataFrame(df[['country', 'total_guest']])\n",
        "guest_country_wise_df = guest_country_wise.groupby(['country'])['total_guest'].sum()\n",
        "guest_country_wise_df.sort_values(ascending = False, inplace = True)\n",
        "top_10_country_by_guest = guest_country_wise_df.head(10)\n",
        "\n",
        "plt.figure(figsize=(12,6))\n",
        "bargraph = sns.barplot(x=top_10_country_by_guest.index, y=top_10_country_by_guest,palette='dark')\n",
        "plt.title('Top 10 Countries by Guest',bbox={'facecolor':'0.8', 'pad':3})\n",
        "for bar in bargraph.containers:\n",
        "  bargraph.bar_label(bar)\n",
        "plt.show()\n"
      ],
      "metadata": {
        "id": "bwevp1tKp1ck"
      },
      "execution_count": null,
      "outputs": []
    },
    {
      "cell_type": "markdown",
      "source": [
        "##### 1. Why did you pick the specific chart?"
      ],
      "metadata": {
        "id": "ylSl6qgtp1ck"
      }
    },
    {
      "cell_type": "markdown",
      "source": [
        "Answer To know that which country guest is mostly coming, that why we choose bar plot."
      ],
      "metadata": {
        "id": "m2xqNkiQp1ck"
      }
    },
    {
      "cell_type": "markdown",
      "source": [
        "##### 2. What is/are the insight(s) found from the chart?"
      ],
      "metadata": {
        "id": "ZWILFDl5p1ck"
      }
    },
    {
      "cell_type": "markdown",
      "source": [
        "Answer As we can see, that maximum guest is coming from Portugal"
      ],
      "metadata": {
        "id": "x-lUsV2mp1ck"
      }
    },
    {
      "cell_type": "markdown",
      "source": [
        "##### 3. Will the gained insights help creating a positive business impact?\n",
        "Are there any insights that lead to negative growth? Justify with specific reason."
      ],
      "metadata": {
        "id": "M7G43BXep1ck"
      }
    },
    {
      "cell_type": "markdown",
      "source": [
        "Answer We can do more advertising & can provide attractive offers to Portugal guests to enhance the customer volume."
      ],
      "metadata": {
        "id": "5wwDJXsLp1cl"
      }
    },
    {
      "cell_type": "markdown",
      "source": [
        "\n",
        "#### Chart - 13"
      ],
      "metadata": {
        "id": "Ag9LCva-p1cl"
      }
    },
    {
      "cell_type": "code",
      "source": [
        "# Chart - 11 visualization code\n",
        "# To know which agent have maximum no of booking\n",
        "\n",
        "\n",
        "\n",
        "df3 = pd.DataFrame(df['agent'].value_counts()).reset_index().rename(columns =\n",
        "                                                                    {'count':'num_of_bookings'}\n",
        "\n",
        "                                                                     ).sort_values(by = 'num_of_bookings', ascending = False)\n",
        "df3\n",
        "df3.drop(df3[df3['agent'] == 0].index, inplace = True)            # 0 represents that booking is not made by an agent\n",
        "df3 = df3[:10]                                                   # Selecting top 10 performing agents\n",
        "plt.figure(figsize = (16,8))\n",
        "sns.barplot(x = 'agent', y = 'num_of_bookings', data = df3,palette='rainbow', order = df3.sort_values('num_of_bookings', ascending = False).agent)\n",
        "plt.xlabel('IDs of Agents who made bookings')\n",
        "plt.show()\n"
      ],
      "metadata": {
        "id": "EUfxeq9-p1cl"
      },
      "execution_count": null,
      "outputs": []
    },
    {
      "cell_type": "markdown",
      "source": [
        "##### 1. Why did you pick the specific chart?"
      ],
      "metadata": {
        "id": "E6MkPsBcp1cl"
      }
    },
    {
      "cell_type": "markdown",
      "source": [
        "\n",
        "Answer To know which agent making most no. of bookings."
      ],
      "metadata": {
        "id": "V22bRsFWp1cl"
      }
    },
    {
      "cell_type": "markdown",
      "source": [
        "##### 2. What is/are the insight(s) found from the chart?"
      ],
      "metadata": {
        "id": "2cELzS2fp1cl"
      }
    },
    {
      "cell_type": "markdown",
      "source": [
        "Answer Here we can clearly see that Agent no. 9 has made most no. of bookings."
      ],
      "metadata": {
        "id": "ozQPc2_Ip1cl"
      }
    },
    {
      "cell_type": "markdown",
      "source": [
        "##### 3. Will the gained insights help creating a positive business impact?\n",
        "Are there any insights that lead to negative growth? Justify with specific reason."
      ],
      "metadata": {
        "id": "3MPXvC8up1cl"
      }
    },
    {
      "cell_type": "markdown",
      "source": [
        "Answer The analysis of the top 10 performing agents in terms of bookings provides valuable insights for targeted incentive programs, resource allocation, and improved forecasting, contributing to a positive business impact. However, there are risks to consider, such as over-reliance on a few agents or neglecting lower performers, which could hinder growth if not addressed. Balancing strategies to support both top and lower-performing agents ensures sustainable growth and minimizes potential negative outcomes."
      ],
      "metadata": {
        "id": "GL8l1tdLp1cl"
      }
    },
    {
      "cell_type": "markdown",
      "source": [
        "#### Chart - 14 - Correlation Heatmap"
      ],
      "metadata": {
        "id": "NC_X3p0fY2L0"
      }
    },
    {
      "cell_type": "code",
      "source": [
        "# Correlation Heatmap visualization code\n",
        "# Correlation Heatmap visualization code\n",
        "corr_df = df[['lead_time','previous_cancellations', 'previous_bookings_not_canceled', 'total_guest',\n",
        "                    'booking_changes', 'days_in_waiting_list', 'adr', 'required_car_parking_spaces', 'total_of_special_requests','total_stay']].corr()\n",
        "f, ax = plt.subplots(figsize=(8, 8))\n",
        "sns.heatmap(corr_df, annot = True, fmt='.2f', annot_kws={'size': 10},  vmax=1, square=True)\n",
        "plt.show()"
      ],
      "metadata": {
        "id": "xyC9zolEZNRQ"
      },
      "execution_count": null,
      "outputs": []
    },
    {
      "cell_type": "markdown",
      "source": [
        "##### 1. Why did you pick the specific chart?"
      ],
      "metadata": {
        "id": "UV0SzAkaZNRQ"
      }
    },
    {
      "cell_type": "markdown",
      "source": [
        "Answer To understand the correlation between the variables."
      ],
      "metadata": {
        "id": "DVPuT8LYZNRQ"
      }
    },
    {
      "cell_type": "markdown",
      "source": [
        "##### 2. What is/are the insight(s) found from the chart?"
      ],
      "metadata": {
        "id": "YPEH6qLeZNRQ"
      }
    },
    {
      "cell_type": "markdown",
      "source": [
        "Answer Total stay and the lead time have positive correlation. This may be interpreted that for longer hotel stays, usually people plan in advance.\n",
        "\n",
        "ADR is positively correlated with total_guest, which defines that as more number of people increases more revenue"
      ],
      "metadata": {
        "id": "bfSqtnDqZNRR"
      }
    },
    {
      "cell_type": "markdown",
      "source": [
        "#### Chart - 15 - Pair Plot"
      ],
      "metadata": {
        "id": "q29F0dvdveiT"
      }
    },
    {
      "cell_type": "code",
      "source": [
        "plt.figure(figsize=(12,8))  # Set the figure size before calling pairplot\n",
        "sns.pairplot(df, vars=['revenue', 'total_stay', 'adr', 'total_guest', 'lead_time'], hue='hotel', palette='rocket')\n",
        "plt.show()\n"
      ],
      "metadata": {
        "id": "o58-TEIhveiU"
      },
      "execution_count": null,
      "outputs": []
    },
    {
      "cell_type": "markdown",
      "source": [
        "##### 1. Why did you pick the specific chart?"
      ],
      "metadata": {
        "id": "EXh0U9oCveiU"
      }
    },
    {
      "cell_type": "markdown",
      "source": [
        "*Answer* To understand the relationship among various variables (columns) present in the dataset."
      ],
      "metadata": {
        "id": "eMmPjTByveiU"
      }
    },
    {
      "cell_type": "markdown",
      "source": [
        "##### 2. What is/are the insight(s) found from the chart?"
      ],
      "metadata": {
        "id": "22aHeOlLveiV"
      }
    },
    {
      "cell_type": "markdown",
      "source": [
        "Answer we can clearly see a positive correlation beween revenue and total stay,it means more number of days customer stays in hotel more revenue it generates and here we can also interprete that city hotel generates high revenue, and also has a more lead time as compared to Resort hotel,it means guests mostly prebook for the City hotel."
      ],
      "metadata": {
        "id": "uPQ8RGwHveiV"
      }
    },
    {
      "cell_type": "markdown",
      "source": [
        "## **5. Solution to Business Objective**"
      ],
      "metadata": {
        "id": "JcMwzZxoAimU"
      }
    },
    {
      "cell_type": "markdown",
      "source": [
        "#### What do you suggest the client to achieve Business Objective ?\n",
        "Explain Briefly."
      ],
      "metadata": {
        "id": "8G2x9gOozGDZ"
      }
    },
    {
      "cell_type": "markdown",
      "source": [
        "\n",
        "Answer\n",
        "* As the peak season is from May to August, with August as the highest booked month, management should consider to utilise staff effectively.\n",
        "* Increase room types A, H in order to increase adr and maximise profits\n",
        "* As majority of the customers are from Portugal and western Europe, management should plan marketing activities in those regions respectively.\n",
        "* Most preferred stay in hotels is 1 to 4 days, hotel management should introduce loyalty service, offers, tourism package in order to increase the stay of customers and to generate more revenue.\n",
        "* As 30% of bookings from TA/To are cancelled, management should significantly take stpes to increase direct bookings by offering discounts, loyalty service, coupons on direct bookings in order to reduce cancellation and increase revenue.\n",
        "\n",
        "* As the City Hotel has more bookings, it generates more revenue and it has more cancellations as well. Management may consider to provide customers with hourly booking option as most of the customers prefer short stay at City Hotel.."
      ],
      "metadata": {
        "id": "pASKb0qOza21"
      }
    },
    {
      "cell_type": "markdown",
      "source": [
        "# **Conclusion**"
      ],
      "metadata": {
        "id": "gCX9965dhzqZ"
      }
    },
    {
      "cell_type": "markdown",
      "source": [
        "\n",
        "* Bread & Breakfast (BB) is the most preferred meal by the customers.\n",
        "* Most of the bookings are for City Hotel (61%) comparedto Resort Hotel (39%)\n",
        "* City Hotel is making more revenue than the Resort Hotel\n",
        "\n",
        "* Most of the guest stays for 1-4 days in the hotels.\n",
        "\n",
        "* Most preferred distribution channel by customers is Travel Agent / Tour Oprator (TA/TO) to make hotel booking. also Travel Agent / Tour Operator (TA/TO) has the highest booking cancellation percentage\n",
        "\n",
        "* Room Type A is the most preferred room type among travellers, while booking, whereas room types H,G,C are generating more adr respectively.\n",
        "\n",
        "* The length of the stay decreases as ADR increases probably to reduce the cost.\n",
        "\n",
        "* Most number of bookings are made from Portugal & Great Britain.\n",
        "* Most number of bookings are made in July and August as compared rest of the months.\n",
        "* City hotel has significantly longer waiting time, hence City Hotel is much busier than Resort Hotel.\n",
        "* Resort hotel has slightly higher revisit percentage than City Hotel.\n",
        "* Lead time, number of days in waiting list or assignation of reserved room to customer does not affect cancellation of bookings."
      ],
      "metadata": {
        "id": "Fjb1IsQkh3yE"
      }
    },
    {
      "cell_type": "markdown",
      "source": [
        "### ***Hurrah! You have successfully completed your EDA Capstone Project !!!***"
      ],
      "metadata": {
        "id": "gIfDvo9L0UH2"
      }
    },
    {
      "cell_type": "code",
      "source": [],
      "metadata": {
        "id": "2RrkMcTYHd4U"
      },
      "execution_count": null,
      "outputs": []
    }
  ]
}